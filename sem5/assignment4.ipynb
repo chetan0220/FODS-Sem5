{
 "cells": [
  {
   "cell_type": "markdown",
   "metadata": {},
   "source": [
    "# Assignment 4\n",
    "Implement normal distribution in python and visualize it for Mean =100,\n",
    "Standard_deviation = 4, dataset_size = 100000."
   ]
  },
  {
   "cell_type": "markdown",
   "metadata": {},
   "source": [
    "### Dataset - Single elder home monitoring: Gas and position<br>\n",
    "This dataset contains gas and temperature sensors as well as movement infra-red sensors from the monitoring of an elder person living alone in their own home from 2019-11-06 to 2020-02-13. The measurings have a temporal resolution of 20 seconds. The air and gas sensors measure temperature, humidity, CO2, CO and MOX readings. The data from the position sensors are binary; for each room, a 1 means that movement has been detected in that room while a 0 means that the sensor has gone back to baseline. The attached figure represents a simple layout of the monitored home as well as the sensors locations. The dataset also includes 19 days of measurements (from 2020-01-25 to 2020-02-13) where noone was occupying the room (except for an esporadic visit the 2020-01-29 at 15:), as reference data"
   ]
  },
  {
   "cell_type": "code",
   "execution_count": 20,
   "metadata": {},
   "outputs": [],
   "source": [
    "import numpy as np\n",
    "import pandas as pd\n",
    "import matplotlib.pyplot as plt"
   ]
  },
  {
   "cell_type": "code",
   "execution_count": 29,
   "metadata": {},
   "outputs": [
    {
     "data": {
      "text/html": [
       "<div>\n",
       "<style scoped>\n",
       "    .dataframe tbody tr th:only-of-type {\n",
       "        vertical-align: middle;\n",
       "    }\n",
       "\n",
       "    .dataframe tbody tr th {\n",
       "        vertical-align: top;\n",
       "    }\n",
       "\n",
       "    .dataframe thead th {\n",
       "        text-align: right;\n",
       "    }\n",
       "</style>\n",
       "<table border=\"1\" class=\"dataframe\">\n",
       "  <thead>\n",
       "    <tr style=\"text-align: right;\">\n",
       "      <th></th>\n",
       "      <th>timestamp</th>\n",
       "      <th>temperature</th>\n",
       "      <th>humidity</th>\n",
       "      <th>CO2CosIRValue</th>\n",
       "      <th>CO2MG811Value</th>\n",
       "      <th>MOX1</th>\n",
       "      <th>MOX2</th>\n",
       "      <th>MOX3</th>\n",
       "      <th>MOX4</th>\n",
       "      <th>COValue</th>\n",
       "    </tr>\n",
       "  </thead>\n",
       "  <tbody>\n",
       "    <tr>\n",
       "      <th>0</th>\n",
       "      <td>2020-01-25 00:01:49.251503+01:00</td>\n",
       "      <td>20.64</td>\n",
       "      <td>55.57</td>\n",
       "      <td>121.0</td>\n",
       "      <td>496.0</td>\n",
       "      <td>521.0</td>\n",
       "      <td>694.0</td>\n",
       "      <td>652.0</td>\n",
       "      <td>591.0</td>\n",
       "      <td>135.0</td>\n",
       "    </tr>\n",
       "    <tr>\n",
       "      <th>1</th>\n",
       "      <td>2020-01-25 00:02:09.350082+01:00</td>\n",
       "      <td>20.64</td>\n",
       "      <td>55.53</td>\n",
       "      <td>122.0</td>\n",
       "      <td>495.0</td>\n",
       "      <td>521.0</td>\n",
       "      <td>694.0</td>\n",
       "      <td>652.0</td>\n",
       "      <td>591.0</td>\n",
       "      <td>135.0</td>\n",
       "    </tr>\n",
       "    <tr>\n",
       "      <th>2</th>\n",
       "      <td>2020-01-25 00:02:29.319505+01:00</td>\n",
       "      <td>20.62</td>\n",
       "      <td>55.53</td>\n",
       "      <td>121.0</td>\n",
       "      <td>495.0</td>\n",
       "      <td>522.0</td>\n",
       "      <td>694.0</td>\n",
       "      <td>651.0</td>\n",
       "      <td>591.0</td>\n",
       "      <td>135.0</td>\n",
       "    </tr>\n",
       "    <tr>\n",
       "      <th>3</th>\n",
       "      <td>2020-01-25 00:02:49.399379+01:00</td>\n",
       "      <td>20.62</td>\n",
       "      <td>55.57</td>\n",
       "      <td>121.0</td>\n",
       "      <td>495.0</td>\n",
       "      <td>522.0</td>\n",
       "      <td>694.0</td>\n",
       "      <td>651.0</td>\n",
       "      <td>591.0</td>\n",
       "      <td>135.0</td>\n",
       "    </tr>\n",
       "    <tr>\n",
       "      <th>4</th>\n",
       "      <td>2020-01-25 00:03:09.158989+01:00</td>\n",
       "      <td>20.62</td>\n",
       "      <td>55.59</td>\n",
       "      <td>121.0</td>\n",
       "      <td>495.0</td>\n",
       "      <td>522.0</td>\n",
       "      <td>694.0</td>\n",
       "      <td>652.0</td>\n",
       "      <td>591.0</td>\n",
       "      <td>135.0</td>\n",
       "    </tr>\n",
       "  </tbody>\n",
       "</table>\n",
       "</div>"
      ],
      "text/plain": [
       "                          timestamp  temperature  humidity  CO2CosIRValue  \\\n",
       "0  2020-01-25 00:01:49.251503+01:00        20.64     55.57          121.0   \n",
       "1  2020-01-25 00:02:09.350082+01:00        20.64     55.53          122.0   \n",
       "2  2020-01-25 00:02:29.319505+01:00        20.62     55.53          121.0   \n",
       "3  2020-01-25 00:02:49.399379+01:00        20.62     55.57          121.0   \n",
       "4  2020-01-25 00:03:09.158989+01:00        20.62     55.59          121.0   \n",
       "\n",
       "   CO2MG811Value   MOX1   MOX2   MOX3   MOX4  COValue  \n",
       "0          496.0  521.0  694.0  652.0  591.0    135.0  \n",
       "1          495.0  521.0  694.0  652.0  591.0    135.0  \n",
       "2          495.0  522.0  694.0  651.0  591.0    135.0  \n",
       "3          495.0  522.0  694.0  651.0  591.0    135.0  \n",
       "4          495.0  522.0  694.0  652.0  591.0    135.0  "
      ]
     },
     "execution_count": 29,
     "metadata": {},
     "output_type": "execute_result"
    }
   ],
   "source": [
    "df = pd.read_csv('../data/sensorDataset.csv')\n",
    "df.head()"
   ]
  },
  {
   "cell_type": "markdown",
   "metadata": {},
   "source": [
    "#### Plot for column 'Humidity'"
   ]
  },
  {
   "cell_type": "code",
   "execution_count": 35,
   "metadata": {},
   "outputs": [],
   "source": [
    "humidity_mean = df['humidity'].mean()\n",
    "humidity_standard_deviation = df['humidity'].std()\n",
    "humidity_size = df['humidity'].__len__()"
   ]
  },
  {
   "cell_type": "code",
   "execution_count": 47,
   "metadata": {},
   "outputs": [
    {
     "data": {
      "text/plain": [
       "array([56.26871414, 58.80951078, 56.88642549, ..., 57.19607933,\n",
       "       56.96654969, 61.40810393])"
      ]
     },
     "execution_count": 47,
     "metadata": {},
     "output_type": "execute_result"
    }
   ],
   "source": [
    "humidity_values = np.random.normal(humidity_mean, humidity_standard_deviation, humidity_size)\n",
    "humidity_values"
   ]
  },
  {
   "cell_type": "code",
   "execution_count": 48,
   "metadata": {},
   "outputs": [
    {
     "data": {
      "text/plain": [
       "75511"
      ]
     },
     "execution_count": 48,
     "metadata": {},
     "output_type": "execute_result"
    }
   ],
   "source": [
    "len(humidity_values)"
   ]
  },
  {
   "cell_type": "code",
   "execution_count": 49,
   "metadata": {},
   "outputs": [
    {
     "data": {
      "text/plain": [
       "array([45.82094025, 47.25064095, 47.47200189, ..., 66.1717053 ,\n",
       "       66.88785065, 66.95484055])"
      ]
     },
     "execution_count": 49,
     "metadata": {},
     "output_type": "execute_result"
    }
   ],
   "source": [
    "np.sort(humidity_values)"
   ]
  },
  {
   "cell_type": "code",
   "execution_count": 50,
   "metadata": {},
   "outputs": [
    {
     "data": {
      "image/png": "[encoded data removed]",
      "text/plain": [
       "<Figure size 640x480 with 1 Axes>"
      ]
     },
     "metadata": {},
     "output_type": "display_data"
    }
   ],
   "source": [
    "plt.hist(humidity_values, 500)\n",
    "plt.axvline(humidity_values.mean(), color='black', linestyle='solid', linewidth=1.5)\n",
    "plt.show()"
   ]
  },
  {
   "cell_type": "markdown",
   "metadata": {},
   "source": [
    "#### Plot for column 'COValue'"
   ]
  },
  {
   "cell_type": "code",
   "execution_count": 51,
   "metadata": {},
   "outputs": [],
   "source": [
    "COValue_mean = df['COValue'].mean()\n",
    "COValue_standard_deviation = df['COValue'].std()\n",
    "COValue_size = df['COValue'].__len__()"
   ]
  },
  {
   "cell_type": "code",
   "execution_count": 63,
   "metadata": {},
   "outputs": [
    {
     "data": {
      "text/plain": [
       "array([114.50781621, 106.75104331, 126.91368767, ..., 118.69079441,\n",
       "       116.10164408,  89.92320863])"
      ]
     },
     "execution_count": 63,
     "metadata": {},
     "output_type": "execute_result"
    }
   ],
   "source": [
    "COValue_values = np.random.normal(COValue_mean, COValue_standard_deviation, COValue_size)\n",
    "COValue_values"
   ]
  },
  {
   "cell_type": "code",
   "execution_count": 64,
   "metadata": {},
   "outputs": [
    {
     "data": {
      "text/plain": [
       "array([ 23.07656462,  30.81233608,  30.97538995, ..., 201.06650413,\n",
       "       204.9197299 , 209.12414897])"
      ]
     },
     "execution_count": 64,
     "metadata": {},
     "output_type": "execute_result"
    }
   ],
   "source": [
    "np.sort(COValue_values)"
   ]
  },
  {
   "cell_type": "code",
   "execution_count": 70,
   "metadata": {},
   "outputs": [
    {
     "data": {
      "image/png": "[encoded data removed]",
      "text/plain": [
       "<Figure size 640x480 with 1 Axes>"
      ]
     },
     "metadata": {},
     "output_type": "display_data"
    }
   ],
   "source": [
    "plt.hist(COValue_values, 500, color='green')\n",
    "plt.axvline(COValue_values.mean(), color='black', linestyle='-.', linewidth=1.7)\n",
    "plt.show()"
   ]
  }
 ],
 "metadata": {
  "kernelspec": {
   "display_name": "Python 3",
   "language": "python",
   "name": "python3"
  },
  "language_info": {
   "codemirror_mode": {
    "name": "ipython",
    "version": 3
   },
   "file_extension": ".py",
   "mimetype": "text/x-python",
   "name": "python",
   "nbconvert_exporter": "python",
   "pygments_lexer": "ipython3",
   "version": "3.9.13"
  },
  "orig_nbformat": 4
 },
 "nbformat": 4,
 "nbformat_minor": 2
}

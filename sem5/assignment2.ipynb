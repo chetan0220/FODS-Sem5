{
 "cells": [
  {
   "cell_type": "markdown",
   "metadata": {},
   "source": [
    "## Assignment 2 <br>\n",
    "DESCRIPTIVE STATISTICS: Write a python script to find basic descriptive statistics\n",
    "using summary, quartile function, etc on iris datasets"
   ]
  },
  {
   "cell_type": "markdown",
   "metadata": {},
   "source": [
    "Measures of central tendency\n",
    "1. Mean<br>\n",
    "2. Median<br>\n",
    "3. Mode<br>\n",
    "---\n",
    "Measures of Variability/Dispersion<br>\n",
    "1. Variance<br>\n",
    "2. SD<br>\n",
    "3. Range<br>\n",
    "4. Interquartile range<br>\n",
    "---\n",
    "Measures of frequency distribution<br>\n",
    "1. Frequency<br>\n",
    "2. Count<br>"
   ]
  },
  {
   "cell_type": "markdown",
   "metadata": {},
   "source": [
    "### Dataset - Single elder home monitoring: Gas and position<br>\n",
    "This dataset contains gas and temperature sensors as well as movement infra-red sensors from the monitoring of an elder person living alone in their own home from 2019-11-06 to 2020-02-13. The measurings have a temporal resolution of 20 seconds. The air and gas sensors measure temperature, humidity, CO2, CO and MOX readings. The data from the position sensors are binary; for each room, a 1 means that movement has been detected in that room while a 0 means that the sensor has gone back to baseline. The attached figure represents a simple layout of the monitored home as well as the sensors locations. The dataset also includes 19 days of measurements (from 2020-01-25 to 2020-02-13) where noone was occupying the room (except for an esporadic visit the 2020-01-29 at 15:), as reference data"
   ]
  },
  {
   "cell_type": "code",
   "execution_count": null,
   "metadata": {},
   "outputs": [],
   "source": [
    "%pip install numpy\n",
    "%pip install pandas\n",
    "%pip install matplotlib"
   ]
  },
  {
   "cell_type": "code",
   "execution_count": 4,
   "metadata": {},
   "outputs": [],
   "source": [
    "import numpy as np\n",
    "import pandas as pd\n",
    "from matplotlib import pyplot as plt"
   ]
  },
  {
   "cell_type": "code",
   "execution_count": 5,
   "metadata": {},
   "outputs": [],
   "source": [
    "df = pd.read_csv('../data/sensorDataset.csv')"
   ]
  },
  {
   "cell_type": "code",
   "execution_count": 6,
   "metadata": {},
   "outputs": [
    {
     "data": {
      "text/html": [
       "<div>\n",
       "<style scoped>\n",
       "    .dataframe tbody tr th:only-of-type {\n",
       "        vertical-align: middle;\n",
       "    }\n",
       "\n",
       "    .dataframe tbody tr th {\n",
       "        vertical-align: top;\n",
       "    }\n",
       "\n",
       "    .dataframe thead th {\n",
       "        text-align: right;\n",
       "    }\n",
       "</style>\n",
       "<table border=\"1\" class=\"dataframe\">\n",
       "  <thead>\n",
       "    <tr style=\"text-align: right;\">\n",
       "      <th></th>\n",
       "      <th>timestamp</th>\n",
       "      <th>temperature</th>\n",
       "      <th>humidity</th>\n",
       "      <th>CO2CosIRValue</th>\n",
       "      <th>CO2MG811Value</th>\n",
       "      <th>MOX1</th>\n",
       "      <th>MOX2</th>\n",
       "      <th>MOX3</th>\n",
       "      <th>MOX4</th>\n",
       "      <th>COValue</th>\n",
       "    </tr>\n",
       "  </thead>\n",
       "  <tbody>\n",
       "    <tr>\n",
       "      <th>0</th>\n",
       "      <td>2020-01-25 00:01:49.251503+01:00</td>\n",
       "      <td>20.64</td>\n",
       "      <td>55.57</td>\n",
       "      <td>121.0</td>\n",
       "      <td>496.0</td>\n",
       "      <td>521.0</td>\n",
       "      <td>694.0</td>\n",
       "      <td>652.0</td>\n",
       "      <td>591.0</td>\n",
       "      <td>135.0</td>\n",
       "    </tr>\n",
       "    <tr>\n",
       "      <th>1</th>\n",
       "      <td>2020-01-25 00:02:09.350082+01:00</td>\n",
       "      <td>20.64</td>\n",
       "      <td>55.53</td>\n",
       "      <td>122.0</td>\n",
       "      <td>495.0</td>\n",
       "      <td>521.0</td>\n",
       "      <td>694.0</td>\n",
       "      <td>652.0</td>\n",
       "      <td>591.0</td>\n",
       "      <td>135.0</td>\n",
       "    </tr>\n",
       "    <tr>\n",
       "      <th>2</th>\n",
       "      <td>2020-01-25 00:02:29.319505+01:00</td>\n",
       "      <td>20.62</td>\n",
       "      <td>55.53</td>\n",
       "      <td>121.0</td>\n",
       "      <td>495.0</td>\n",
       "      <td>522.0</td>\n",
       "      <td>694.0</td>\n",
       "      <td>651.0</td>\n",
       "      <td>591.0</td>\n",
       "      <td>135.0</td>\n",
       "    </tr>\n",
       "    <tr>\n",
       "      <th>3</th>\n",
       "      <td>2020-01-25 00:02:49.399379+01:00</td>\n",
       "      <td>20.62</td>\n",
       "      <td>55.57</td>\n",
       "      <td>121.0</td>\n",
       "      <td>495.0</td>\n",
       "      <td>522.0</td>\n",
       "      <td>694.0</td>\n",
       "      <td>651.0</td>\n",
       "      <td>591.0</td>\n",
       "      <td>135.0</td>\n",
       "    </tr>\n",
       "    <tr>\n",
       "      <th>4</th>\n",
       "      <td>2020-01-25 00:03:09.158989+01:00</td>\n",
       "      <td>20.62</td>\n",
       "      <td>55.59</td>\n",
       "      <td>121.0</td>\n",
       "      <td>495.0</td>\n",
       "      <td>522.0</td>\n",
       "      <td>694.0</td>\n",
       "      <td>652.0</td>\n",
       "      <td>591.0</td>\n",
       "      <td>135.0</td>\n",
       "    </tr>\n",
       "  </tbody>\n",
       "</table>\n",
       "</div>"
      ],
      "text/plain": [
       "                          timestamp  temperature  humidity  CO2CosIRValue  \\\n",
       "0  2020-01-25 00:01:49.251503+01:00        20.64     55.57          121.0   \n",
       "1  2020-01-25 00:02:09.350082+01:00        20.64     55.53          122.0   \n",
       "2  2020-01-25 00:02:29.319505+01:00        20.62     55.53          121.0   \n",
       "3  2020-01-25 00:02:49.399379+01:00        20.62     55.57          121.0   \n",
       "4  2020-01-25 00:03:09.158989+01:00        20.62     55.59          121.0   \n",
       "\n",
       "   CO2MG811Value   MOX1   MOX2   MOX3   MOX4  COValue  \n",
       "0          496.0  521.0  694.0  652.0  591.0    135.0  \n",
       "1          495.0  521.0  694.0  652.0  591.0    135.0  \n",
       "2          495.0  522.0  694.0  651.0  591.0    135.0  \n",
       "3          495.0  522.0  694.0  651.0  591.0    135.0  \n",
       "4          495.0  522.0  694.0  652.0  591.0    135.0  "
      ]
     },
     "execution_count": 6,
     "metadata": {},
     "output_type": "execute_result"
    }
   ],
   "source": [
    "df.head()"
   ]
  },
  {
   "cell_type": "code",
   "execution_count": 7,
   "metadata": {},
   "outputs": [
    {
     "data": {
      "text/plain": [
       "(75511, 10)"
      ]
     },
     "execution_count": 7,
     "metadata": {},
     "output_type": "execute_result"
    }
   ],
   "source": [
    "df.shape"
   ]
  },
  {
   "cell_type": "code",
   "execution_count": 8,
   "metadata": {},
   "outputs": [
    {
     "data": {
      "text/plain": [
       "Index(['timestamp', 'temperature', 'humidity', 'CO2CosIRValue',\n",
       "       'CO2MG811Value', 'MOX1', 'MOX2', 'MOX3', 'MOX4', 'COValue'],\n",
       "      dtype='object')"
      ]
     },
     "execution_count": 8,
     "metadata": {},
     "output_type": "execute_result"
    }
   ],
   "source": [
    "df.columns"
   ]
  },
  {
   "cell_type": "code",
   "execution_count": 9,
   "metadata": {},
   "outputs": [
    {
     "name": "stdout",
     "output_type": "stream",
     "text": [
      "<class 'pandas.core.frame.DataFrame'>\n",
      "RangeIndex: 75511 entries, 0 to 75510\n",
      "Data columns (total 10 columns):\n",
      " #   Column         Non-Null Count  Dtype  \n",
      "---  ------         --------------  -----  \n",
      " 0   timestamp      75511 non-null  object \n",
      " 1   temperature    75511 non-null  float64\n",
      " 2   humidity       75511 non-null  float64\n",
      " 3   CO2CosIRValue  75511 non-null  float64\n",
      " 4   CO2MG811Value  75511 non-null  float64\n",
      " 5   MOX1           75511 non-null  float64\n",
      " 6   MOX2           75511 non-null  float64\n",
      " 7   MOX3           75511 non-null  float64\n",
      " 8   MOX4           75511 non-null  float64\n",
      " 9   COValue        75511 non-null  float64\n",
      "dtypes: float64(9), object(1)\n",
      "memory usage: 5.8+ MB\n"
     ]
    }
   ],
   "source": [
    "df.info()"
   ]
  },
  {
   "cell_type": "code",
   "execution_count": 10,
   "metadata": {},
   "outputs": [
    {
     "data": {
      "text/html": [
       "<div>\n",
       "<style scoped>\n",
       "    .dataframe tbody tr th:only-of-type {\n",
       "        vertical-align: middle;\n",
       "    }\n",
       "\n",
       "    .dataframe tbody tr th {\n",
       "        vertical-align: top;\n",
       "    }\n",
       "\n",
       "    .dataframe thead th {\n",
       "        text-align: right;\n",
       "    }\n",
       "</style>\n",
       "<table border=\"1\" class=\"dataframe\">\n",
       "  <thead>\n",
       "    <tr style=\"text-align: right;\">\n",
       "      <th></th>\n",
       "      <th>temperature</th>\n",
       "      <th>humidity</th>\n",
       "      <th>CO2CosIRValue</th>\n",
       "      <th>CO2MG811Value</th>\n",
       "      <th>MOX1</th>\n",
       "      <th>MOX2</th>\n",
       "      <th>MOX3</th>\n",
       "      <th>MOX4</th>\n",
       "      <th>COValue</th>\n",
       "    </tr>\n",
       "  </thead>\n",
       "  <tbody>\n",
       "    <tr>\n",
       "      <th>count</th>\n",
       "      <td>75511.000000</td>\n",
       "      <td>75511.000000</td>\n",
       "      <td>75511.000000</td>\n",
       "      <td>75511.000000</td>\n",
       "      <td>75511.00000</td>\n",
       "      <td>75511.000000</td>\n",
       "      <td>75511.000000</td>\n",
       "      <td>75511.000000</td>\n",
       "      <td>75511.000000</td>\n",
       "    </tr>\n",
       "    <tr>\n",
       "      <th>mean</th>\n",
       "      <td>20.025767</td>\n",
       "      <td>56.690943</td>\n",
       "      <td>70.176226</td>\n",
       "      <td>510.003523</td>\n",
       "      <td>538.73139</td>\n",
       "      <td>724.035849</td>\n",
       "      <td>675.748619</td>\n",
       "      <td>625.210473</td>\n",
       "      <td>114.237290</td>\n",
       "    </tr>\n",
       "    <tr>\n",
       "      <th>std</th>\n",
       "      <td>1.404978</td>\n",
       "      <td>2.416317</td>\n",
       "      <td>22.969229</td>\n",
       "      <td>9.233296</td>\n",
       "      <td>21.36482</td>\n",
       "      <td>19.940654</td>\n",
       "      <td>22.754632</td>\n",
       "      <td>27.964882</td>\n",
       "      <td>21.903941</td>\n",
       "    </tr>\n",
       "    <tr>\n",
       "      <th>min</th>\n",
       "      <td>14.820000</td>\n",
       "      <td>46.270000</td>\n",
       "      <td>37.000000</td>\n",
       "      <td>420.000000</td>\n",
       "      <td>339.00000</td>\n",
       "      <td>634.000000</td>\n",
       "      <td>575.000000</td>\n",
       "      <td>473.000000</td>\n",
       "      <td>82.000000</td>\n",
       "    </tr>\n",
       "    <tr>\n",
       "      <th>25%</th>\n",
       "      <td>19.940000</td>\n",
       "      <td>55.360000</td>\n",
       "      <td>53.000000</td>\n",
       "      <td>502.000000</td>\n",
       "      <td>530.00000</td>\n",
       "      <td>710.000000</td>\n",
       "      <td>663.000000</td>\n",
       "      <td>611.000000</td>\n",
       "      <td>101.000000</td>\n",
       "    </tr>\n",
       "    <tr>\n",
       "      <th>50%</th>\n",
       "      <td>20.230000</td>\n",
       "      <td>57.030000</td>\n",
       "      <td>69.000000</td>\n",
       "      <td>509.000000</td>\n",
       "      <td>537.00000</td>\n",
       "      <td>722.000000</td>\n",
       "      <td>676.000000</td>\n",
       "      <td>626.000000</td>\n",
       "      <td>109.000000</td>\n",
       "    </tr>\n",
       "    <tr>\n",
       "      <th>75%</th>\n",
       "      <td>20.640000</td>\n",
       "      <td>58.310000</td>\n",
       "      <td>74.000000</td>\n",
       "      <td>518.000000</td>\n",
       "      <td>545.00000</td>\n",
       "      <td>742.000000</td>\n",
       "      <td>690.000000</td>\n",
       "      <td>643.000000</td>\n",
       "      <td>120.000000</td>\n",
       "    </tr>\n",
       "    <tr>\n",
       "      <th>max</th>\n",
       "      <td>23.470000</td>\n",
       "      <td>69.260000</td>\n",
       "      <td>198.000000</td>\n",
       "      <td>526.000000</td>\n",
       "      <td>598.00000</td>\n",
       "      <td>791.000000</td>\n",
       "      <td>734.000000</td>\n",
       "      <td>690.000000</td>\n",
       "      <td>918.000000</td>\n",
       "    </tr>\n",
       "  </tbody>\n",
       "</table>\n",
       "</div>"
      ],
      "text/plain": [
       "        temperature      humidity  CO2CosIRValue  CO2MG811Value         MOX1  \\\n",
       "count  75511.000000  75511.000000   75511.000000   75511.000000  75511.00000   \n",
       "mean      20.025767     56.690943      70.176226     510.003523    538.73139   \n",
       "std        1.404978      2.416317      22.969229       9.233296     21.36482   \n",
       "min       14.820000     46.270000      37.000000     420.000000    339.00000   \n",
       "25%       19.940000     55.360000      53.000000     502.000000    530.00000   \n",
       "50%       20.230000     57.030000      69.000000     509.000000    537.00000   \n",
       "75%       20.640000     58.310000      74.000000     518.000000    545.00000   \n",
       "max       23.470000     69.260000     198.000000     526.000000    598.00000   \n",
       "\n",
       "               MOX2          MOX3          MOX4       COValue  \n",
       "count  75511.000000  75511.000000  75511.000000  75511.000000  \n",
       "mean     724.035849    675.748619    625.210473    114.237290  \n",
       "std       19.940654     22.754632     27.964882     21.903941  \n",
       "min      634.000000    575.000000    473.000000     82.000000  \n",
       "25%      710.000000    663.000000    611.000000    101.000000  \n",
       "50%      722.000000    676.000000    626.000000    109.000000  \n",
       "75%      742.000000    690.000000    643.000000    120.000000  \n",
       "max      791.000000    734.000000    690.000000    918.000000  "
      ]
     },
     "execution_count": 10,
     "metadata": {},
     "output_type": "execute_result"
    }
   ],
   "source": [
    "df.describe()"
   ]
  },
  {
   "cell_type": "markdown",
   "metadata": {},
   "source": [
    "### Measures of Central Tendency"
   ]
  },
  {
   "cell_type": "markdown",
   "metadata": {},
   "source": [
    "#### Mean"
   ]
  },
  {
   "cell_type": "code",
   "execution_count": 11,
   "metadata": {},
   "outputs": [
    {
     "data": {
      "text/plain": [
       "56.69094290898015"
      ]
     },
     "execution_count": 11,
     "metadata": {},
     "output_type": "execute_result"
    }
   ],
   "source": [
    "df['humidity'].mean()"
   ]
  },
  {
   "cell_type": "code",
   "execution_count": 12,
   "metadata": {},
   "outputs": [
    {
     "data": {
      "text/plain": [
       "538.7313901285905"
      ]
     },
     "execution_count": 12,
     "metadata": {},
     "output_type": "execute_result"
    }
   ],
   "source": [
    "df['MOX1'].mean()"
   ]
  },
  {
   "cell_type": "markdown",
   "metadata": {},
   "source": [
    "#### Median"
   ]
  },
  {
   "cell_type": "code",
   "execution_count": 13,
   "metadata": {},
   "outputs": [
    {
     "data": {
      "text/plain": [
       "69.0"
      ]
     },
     "execution_count": 13,
     "metadata": {},
     "output_type": "execute_result"
    }
   ],
   "source": [
    "df['CO2CosIRValue'].median()"
   ]
  },
  {
   "cell_type": "code",
   "execution_count": 14,
   "metadata": {},
   "outputs": [
    {
     "data": {
      "text/plain": [
       "57.03"
      ]
     },
     "execution_count": 14,
     "metadata": {},
     "output_type": "execute_result"
    }
   ],
   "source": [
    "df['humidity'].median()"
   ]
  },
  {
   "cell_type": "markdown",
   "metadata": {},
   "source": [
    "#### Mode"
   ]
  },
  {
   "cell_type": "code",
   "execution_count": 15,
   "metadata": {},
   "outputs": [
    {
     "data": {
      "text/plain": [
       "0    518.0\n",
       "Name: CO2MG811Value, dtype: float64"
      ]
     },
     "execution_count": 15,
     "metadata": {},
     "output_type": "execute_result"
    }
   ],
   "source": [
    "df['CO2MG811Value'].mode()"
   ]
  },
  {
   "cell_type": "markdown",
   "metadata": {},
   "source": [
    "### Measures of Variability"
   ]
  },
  {
   "cell_type": "markdown",
   "metadata": {},
   "source": [
    "### Variance"
   ]
  },
  {
   "cell_type": "code",
   "execution_count": 16,
   "metadata": {},
   "outputs": [
    {
     "data": {
      "text/plain": [
       "1.9739623428638624"
      ]
     },
     "execution_count": 16,
     "metadata": {},
     "output_type": "execute_result"
    }
   ],
   "source": [
    "df['temperature'].var()"
   ]
  },
  {
   "cell_type": "code",
   "execution_count": 17,
   "metadata": {},
   "outputs": [
    {
     "data": {
      "text/plain": [
       "782.0346173782444"
      ]
     },
     "execution_count": 17,
     "metadata": {},
     "output_type": "execute_result"
    }
   ],
   "source": [
    "df['MOX4'].var()"
   ]
  },
  {
   "cell_type": "markdown",
   "metadata": {},
   "source": [
    "### Standard Deviation"
   ]
  },
  {
   "cell_type": "code",
   "execution_count": 18,
   "metadata": {},
   "outputs": [
    {
     "data": {
      "text/plain": [
       "19.94065355923512"
      ]
     },
     "execution_count": 18,
     "metadata": {},
     "output_type": "execute_result"
    }
   ],
   "source": [
    "df['MOX2'].std()"
   ]
  },
  {
   "cell_type": "markdown",
   "metadata": {},
   "source": [
    "#### Range"
   ]
  },
  {
   "cell_type": "code",
   "execution_count": 21,
   "metadata": {},
   "outputs": [
    {
     "data": {
      "text/plain": [
       "8.649999999999999"
      ]
     },
     "execution_count": 21,
     "metadata": {},
     "output_type": "execute_result"
    }
   ],
   "source": [
    "range_temperature = max(df['temperature']) - min(df['temperature'])\n",
    "range_temperature"
   ]
  },
  {
   "cell_type": "markdown",
   "metadata": {},
   "source": [
    "#### Interquartile Range"
   ]
  },
  {
   "cell_type": "code",
   "execution_count": 22,
   "metadata": {},
   "outputs": [],
   "source": [
    "quartile1 = np.percentile(df['CO2MG811Value'], 25)\n",
    "quartile3 = np.percentile(df['CO2MG811Value'], 75)"
   ]
  },
  {
   "cell_type": "code",
   "execution_count": 23,
   "metadata": {},
   "outputs": [
    {
     "data": {
      "text/plain": [
       "16.0"
      ]
     },
     "execution_count": 23,
     "metadata": {},
     "output_type": "execute_result"
    }
   ],
   "source": [
    "interquartile_range = quartile3 - quartile1\n",
    "interquartile_range"
   ]
  },
  {
   "cell_type": "markdown",
   "metadata": {},
   "source": [
    "### Measures of frequency distribution"
   ]
  },
  {
   "cell_type": "markdown",
   "metadata": {},
   "source": [
    "#### Frequency and Count"
   ]
  },
  {
   "cell_type": "code",
   "execution_count": 28,
   "metadata": {},
   "outputs": [],
   "source": [
    "unique_elements, counts_elements = np.unique(df['COValue'], return_counts=True)"
   ]
  },
  {
   "cell_type": "code",
   "execution_count": 27,
   "metadata": {},
   "outputs": [
    {
     "name": "stdout",
     "output_type": "stream",
     "text": [
      "[  89  186  291  177  222  187  102  160  231  883 2125 2062 1454 1279\n",
      " 1371 1421 1517 1870 2772 2568 2130 2280 2671 2495 2333 1860 1701 1547\n",
      " 1546 1729 2294 2413 2153 1739 1725 1924 1698 1423 1216 1178 1233  963\n",
      "  752  592  568  673  494  386  345  311  243  151  175  115   80  147\n",
      "  164  158   74   77   45   47   31   83  125  141  152  270  344  257\n",
      "  158  180  203  164  350  487  435  408  418  406  421  391  453  236\n",
      "  157  138  250  213  200  180  190  206  338  154  152   96   48   48\n",
      "   19   10    9   12   17    8   14    1    5    1    4    2    1    1\n",
      "    3    1    2    1    1    3    1    2    2    1    2    1    2    2\n",
      "    5    2    1    6    2    1    2    2    1    1    1    1    4    1\n",
      "    2    1    1    1    2    1    1    1    1    1    2    1    4    2\n",
      "    1    1    1    4    2    2    7    1    1    1    1    1    1    1\n",
      "    1    1    1    6]\n",
      "[ 82.  83.  84.  85.  86.  87.  88.  89.  90.  91.  92.  93.  94.  95.\n",
      "  96.  97.  98.  99. 100. 101. 102. 103. 104. 105. 106. 107. 108. 109.\n",
      " 110. 111. 112. 113. 114. 115. 116. 117. 118. 119. 120. 121. 122. 123.\n",
      " 124. 125. 126. 127. 128. 129. 130. 131. 132. 133. 134. 135. 136. 137.\n",
      " 138. 139. 140. 141. 142. 143. 144. 145. 146. 147. 148. 149. 150. 151.\n",
      " 152. 153. 154. 155. 156. 157. 158. 159. 160. 161. 162. 163. 164. 165.\n",
      " 166. 167. 168. 169. 170. 171. 172. 173. 174. 175. 176. 177. 178. 179.\n",
      " 180. 181. 182. 183. 184. 185. 186. 187. 189. 190. 191. 193. 194. 195.\n",
      " 196. 197. 198. 199. 200. 202. 203. 205. 207. 208. 209. 210. 211. 212.\n",
      " 213. 214. 215. 216. 217. 218. 219. 220. 221. 222. 224. 226. 227. 228.\n",
      " 229. 230. 231. 233. 234. 235. 236. 238. 239. 242. 247. 252. 254. 255.\n",
      " 256. 260. 263. 264. 265. 267. 272. 275. 285. 291. 303. 315. 331. 348.\n",
      " 377. 420. 532. 918.]\n"
     ]
    }
   ],
   "source": [
    "print(counts_elements)\n",
    "print(unique_elements)"
   ]
  }
 ],
 "metadata": {
  "kernelspec": {
   "display_name": "Python 3",
   "language": "python",
   "name": "python3"
  },
  "language_info": {
   "codemirror_mode": {
    "name": "ipython",
    "version": 3
   },
   "file_extension": ".py",
   "mimetype": "text/x-python",
   "name": "python",
   "nbconvert_exporter": "python",
   "pygments_lexer": "ipython3",
   "version": "3.9.13"
  },
  "orig_nbformat": 4
 },
 "nbformat": 4,
 "nbformat_minor": 2
}

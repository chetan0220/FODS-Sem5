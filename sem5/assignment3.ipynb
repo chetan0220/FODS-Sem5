{
 "cells": [
  {
   "cell_type": "markdown",
   "metadata": {},
   "source": [
    "## Assignment 3 <br>\n",
    "CORRELATION AND COVARIANCE:<br>\n",
    "1. Find the correlation matrix on the iris dataset.\n",
    "2. Plot the correlation plot on the dataset and visualize giving an overview of relationships\n",
    "among data on iris dataset"
   ]
  },
  {
   "cell_type": "markdown",
   "metadata": {},
   "source": [
    "### Dataset - Single elder home monitoring: Gas and position<br>\n",
    "This dataset contains gas and temperature sensors as well as movement infra-red sensors from the monitoring of an elder person living alone in their own home from 2019-11-06 to 2020-02-13. The measurings have a temporal resolution of 20 seconds. The air and gas sensors measure temperature, humidity, CO2, CO and MOX readings. The data from the position sensors are binary; for each room, a 1 means that movement has been detected in that room while a 0 means that the sensor has gone back to baseline. The attached figure represents a simple layout of the monitored home as well as the sensors locations. The dataset also includes 19 days of measurements (from 2020-01-25 to 2020-02-13) where noone was occupying the room (except for an esporadic visit the 2020-01-29 at 15:), as reference data"
   ]
  },
  {
   "cell_type": "code",
   "execution_count": null,
   "metadata": {},
   "outputs": [],
   "source": [
    "%pip install numpy\n",
    "%pip install pandas\n",
    "%pip install matplotlib"
   ]
  },
  {
   "cell_type": "code",
   "execution_count": 15,
   "metadata": {},
   "outputs": [],
   "source": [
    "import numpy as np\n",
    "import pandas as pd\n",
    "from matplotlib import pyplot as plt"
   ]
  },
  {
   "cell_type": "code",
   "execution_count": 16,
   "metadata": {},
   "outputs": [
    {
     "data": {
      "text/html": [
       "<div>\n",
       "<style scoped>\n",
       "    .dataframe tbody tr th:only-of-type {\n",
       "        vertical-align: middle;\n",
       "    }\n",
       "\n",
       "    .dataframe tbody tr th {\n",
       "        vertical-align: top;\n",
       "    }\n",
       "\n",
       "    .dataframe thead th {\n",
       "        text-align: right;\n",
       "    }\n",
       "</style>\n",
       "<table border=\"1\" class=\"dataframe\">\n",
       "  <thead>\n",
       "    <tr style=\"text-align: right;\">\n",
       "      <th></th>\n",
       "      <th>timestamp</th>\n",
       "      <th>temperature</th>\n",
       "      <th>humidity</th>\n",
       "      <th>CO2CosIRValue</th>\n",
       "      <th>CO2MG811Value</th>\n",
       "      <th>MOX1</th>\n",
       "      <th>MOX2</th>\n",
       "      <th>MOX3</th>\n",
       "      <th>MOX4</th>\n",
       "      <th>COValue</th>\n",
       "    </tr>\n",
       "  </thead>\n",
       "  <tbody>\n",
       "    <tr>\n",
       "      <th>0</th>\n",
       "      <td>2020-01-25 00:01:49.251503+01:00</td>\n",
       "      <td>20.64</td>\n",
       "      <td>55.57</td>\n",
       "      <td>121.0</td>\n",
       "      <td>496.0</td>\n",
       "      <td>521.0</td>\n",
       "      <td>694.0</td>\n",
       "      <td>652.0</td>\n",
       "      <td>591.0</td>\n",
       "      <td>135.0</td>\n",
       "    </tr>\n",
       "    <tr>\n",
       "      <th>1</th>\n",
       "      <td>2020-01-25 00:02:09.350082+01:00</td>\n",
       "      <td>20.64</td>\n",
       "      <td>55.53</td>\n",
       "      <td>122.0</td>\n",
       "      <td>495.0</td>\n",
       "      <td>521.0</td>\n",
       "      <td>694.0</td>\n",
       "      <td>652.0</td>\n",
       "      <td>591.0</td>\n",
       "      <td>135.0</td>\n",
       "    </tr>\n",
       "    <tr>\n",
       "      <th>2</th>\n",
       "      <td>2020-01-25 00:02:29.319505+01:00</td>\n",
       "      <td>20.62</td>\n",
       "      <td>55.53</td>\n",
       "      <td>121.0</td>\n",
       "      <td>495.0</td>\n",
       "      <td>522.0</td>\n",
       "      <td>694.0</td>\n",
       "      <td>651.0</td>\n",
       "      <td>591.0</td>\n",
       "      <td>135.0</td>\n",
       "    </tr>\n",
       "    <tr>\n",
       "      <th>3</th>\n",
       "      <td>2020-01-25 00:02:49.399379+01:00</td>\n",
       "      <td>20.62</td>\n",
       "      <td>55.57</td>\n",
       "      <td>121.0</td>\n",
       "      <td>495.0</td>\n",
       "      <td>522.0</td>\n",
       "      <td>694.0</td>\n",
       "      <td>651.0</td>\n",
       "      <td>591.0</td>\n",
       "      <td>135.0</td>\n",
       "    </tr>\n",
       "    <tr>\n",
       "      <th>4</th>\n",
       "      <td>2020-01-25 00:03:09.158989+01:00</td>\n",
       "      <td>20.62</td>\n",
       "      <td>55.59</td>\n",
       "      <td>121.0</td>\n",
       "      <td>495.0</td>\n",
       "      <td>522.0</td>\n",
       "      <td>694.0</td>\n",
       "      <td>652.0</td>\n",
       "      <td>591.0</td>\n",
       "      <td>135.0</td>\n",
       "    </tr>\n",
       "  </tbody>\n",
       "</table>\n",
       "</div>"
      ],
      "text/plain": [
       "                          timestamp  temperature  humidity  CO2CosIRValue  \\\n",
       "0  2020-01-25 00:01:49.251503+01:00        20.64     55.57          121.0   \n",
       "1  2020-01-25 00:02:09.350082+01:00        20.64     55.53          122.0   \n",
       "2  2020-01-25 00:02:29.319505+01:00        20.62     55.53          121.0   \n",
       "3  2020-01-25 00:02:49.399379+01:00        20.62     55.57          121.0   \n",
       "4  2020-01-25 00:03:09.158989+01:00        20.62     55.59          121.0   \n",
       "\n",
       "   CO2MG811Value   MOX1   MOX2   MOX3   MOX4  COValue  \n",
       "0          496.0  521.0  694.0  652.0  591.0    135.0  \n",
       "1          495.0  521.0  694.0  652.0  591.0    135.0  \n",
       "2          495.0  522.0  694.0  651.0  591.0    135.0  \n",
       "3          495.0  522.0  694.0  651.0  591.0    135.0  \n",
       "4          495.0  522.0  694.0  652.0  591.0    135.0  "
      ]
     },
     "execution_count": 16,
     "metadata": {},
     "output_type": "execute_result"
    }
   ],
   "source": [
    "df = pd.read_csv('../data/sensorDataset.csv')\n",
    "df.head()"
   ]
  },
  {
   "cell_type": "code",
   "execution_count": 17,
   "metadata": {},
   "outputs": [
    {
     "data": {
      "text/plain": [
       "(75511, 10)"
      ]
     },
     "execution_count": 17,
     "metadata": {},
     "output_type": "execute_result"
    }
   ],
   "source": [
    "df.shape"
   ]
  },
  {
   "cell_type": "code",
   "execution_count": 18,
   "metadata": {},
   "outputs": [
    {
     "data": {
      "text/plain": [
       "<bound method DataFrame.info of                               timestamp  temperature  humidity  CO2CosIRValue  \\\n",
       "0      2020-01-25 00:01:49.251503+01:00        20.64     55.57          121.0   \n",
       "1      2020-01-25 00:02:09.350082+01:00        20.64     55.53          122.0   \n",
       "2      2020-01-25 00:02:29.319505+01:00        20.62     55.53          121.0   \n",
       "3      2020-01-25 00:02:49.399379+01:00        20.62     55.57          121.0   \n",
       "4      2020-01-25 00:03:09.158989+01:00        20.62     55.59          121.0   \n",
       "...                                 ...          ...       ...            ...   \n",
       "75506  2020-02-13 11:56:53.929978+01:00        20.62     57.75           62.0   \n",
       "75507  2020-02-13 11:57:14.204458+01:00        20.62     57.75           62.0   \n",
       "75508  2020-02-13 11:57:33.983249+01:00        20.62     57.75           62.0   \n",
       "75509  2020-02-13 11:57:54.058349+01:00        20.62     57.74           63.0   \n",
       "75510  2020-02-13 11:58:14.014336+01:00        20.62     57.74           63.0   \n",
       "\n",
       "       CO2MG811Value   MOX1   MOX2   MOX3   MOX4  COValue  \n",
       "0              496.0  521.0  694.0  652.0  591.0    135.0  \n",
       "1              495.0  521.0  694.0  652.0  591.0    135.0  \n",
       "2              495.0  522.0  694.0  651.0  591.0    135.0  \n",
       "3              495.0  522.0  694.0  651.0  591.0    135.0  \n",
       "4              495.0  522.0  694.0  652.0  591.0    135.0  \n",
       "...              ...    ...    ...    ...    ...      ...  \n",
       "75506          518.0  524.0  698.0  642.0  591.0    157.0  \n",
       "75507          518.0  524.0  698.0  641.0  591.0    157.0  \n",
       "75508          518.0  524.0  698.0  641.0  591.0    157.0  \n",
       "75509          518.0  524.0  698.0  641.0  591.0    157.0  \n",
       "75510          518.0  524.0  698.0  641.0  591.0    157.0  \n",
       "\n",
       "[75511 rows x 10 columns]>"
      ]
     },
     "execution_count": 18,
     "metadata": {},
     "output_type": "execute_result"
    }
   ],
   "source": [
    "df.info"
   ]
  },
  {
   "cell_type": "code",
   "execution_count": 22,
   "metadata": {},
   "outputs": [
    {
     "data": {
      "text/html": [
       "<div>\n",
       "<style scoped>\n",
       "    .dataframe tbody tr th:only-of-type {\n",
       "        vertical-align: middle;\n",
       "    }\n",
       "\n",
       "    .dataframe tbody tr th {\n",
       "        vertical-align: top;\n",
       "    }\n",
       "\n",
       "    .dataframe thead th {\n",
       "        text-align: right;\n",
       "    }\n",
       "</style>\n",
       "<table border=\"1\" class=\"dataframe\">\n",
       "  <thead>\n",
       "    <tr style=\"text-align: right;\">\n",
       "      <th></th>\n",
       "      <th>temperature</th>\n",
       "      <th>humidity</th>\n",
       "      <th>CO2CosIRValue</th>\n",
       "      <th>CO2MG811Value</th>\n",
       "      <th>MOX1</th>\n",
       "      <th>MOX2</th>\n",
       "      <th>MOX3</th>\n",
       "      <th>MOX4</th>\n",
       "      <th>COValue</th>\n",
       "    </tr>\n",
       "  </thead>\n",
       "  <tbody>\n",
       "    <tr>\n",
       "      <th>count</th>\n",
       "      <td>75511.000000</td>\n",
       "      <td>75511.000000</td>\n",
       "      <td>75511.000000</td>\n",
       "      <td>75511.000000</td>\n",
       "      <td>75511.00000</td>\n",
       "      <td>75511.000000</td>\n",
       "      <td>75511.000000</td>\n",
       "      <td>75511.000000</td>\n",
       "      <td>75511.000000</td>\n",
       "    </tr>\n",
       "    <tr>\n",
       "      <th>mean</th>\n",
       "      <td>20.025767</td>\n",
       "      <td>56.690943</td>\n",
       "      <td>70.176226</td>\n",
       "      <td>510.003523</td>\n",
       "      <td>538.73139</td>\n",
       "      <td>724.035849</td>\n",
       "      <td>675.748619</td>\n",
       "      <td>625.210473</td>\n",
       "      <td>114.237290</td>\n",
       "    </tr>\n",
       "    <tr>\n",
       "      <th>std</th>\n",
       "      <td>1.404978</td>\n",
       "      <td>2.416317</td>\n",
       "      <td>22.969229</td>\n",
       "      <td>9.233296</td>\n",
       "      <td>21.36482</td>\n",
       "      <td>19.940654</td>\n",
       "      <td>22.754632</td>\n",
       "      <td>27.964882</td>\n",
       "      <td>21.903941</td>\n",
       "    </tr>\n",
       "    <tr>\n",
       "      <th>min</th>\n",
       "      <td>14.820000</td>\n",
       "      <td>46.270000</td>\n",
       "      <td>37.000000</td>\n",
       "      <td>420.000000</td>\n",
       "      <td>339.00000</td>\n",
       "      <td>634.000000</td>\n",
       "      <td>575.000000</td>\n",
       "      <td>473.000000</td>\n",
       "      <td>82.000000</td>\n",
       "    </tr>\n",
       "    <tr>\n",
       "      <th>25%</th>\n",
       "      <td>19.940000</td>\n",
       "      <td>55.360000</td>\n",
       "      <td>53.000000</td>\n",
       "      <td>502.000000</td>\n",
       "      <td>530.00000</td>\n",
       "      <td>710.000000</td>\n",
       "      <td>663.000000</td>\n",
       "      <td>611.000000</td>\n",
       "      <td>101.000000</td>\n",
       "    </tr>\n",
       "    <tr>\n",
       "      <th>50%</th>\n",
       "      <td>20.230000</td>\n",
       "      <td>57.030000</td>\n",
       "      <td>69.000000</td>\n",
       "      <td>509.000000</td>\n",
       "      <td>537.00000</td>\n",
       "      <td>722.000000</td>\n",
       "      <td>676.000000</td>\n",
       "      <td>626.000000</td>\n",
       "      <td>109.000000</td>\n",
       "    </tr>\n",
       "    <tr>\n",
       "      <th>75%</th>\n",
       "      <td>20.640000</td>\n",
       "      <td>58.310000</td>\n",
       "      <td>74.000000</td>\n",
       "      <td>518.000000</td>\n",
       "      <td>545.00000</td>\n",
       "      <td>742.000000</td>\n",
       "      <td>690.000000</td>\n",
       "      <td>643.000000</td>\n",
       "      <td>120.000000</td>\n",
       "    </tr>\n",
       "    <tr>\n",
       "      <th>max</th>\n",
       "      <td>23.470000</td>\n",
       "      <td>69.260000</td>\n",
       "      <td>198.000000</td>\n",
       "      <td>526.000000</td>\n",
       "      <td>598.00000</td>\n",
       "      <td>791.000000</td>\n",
       "      <td>734.000000</td>\n",
       "      <td>690.000000</td>\n",
       "      <td>918.000000</td>\n",
       "    </tr>\n",
       "  </tbody>\n",
       "</table>\n",
       "</div>"
      ],
      "text/plain": [
       "        temperature      humidity  CO2CosIRValue  CO2MG811Value         MOX1  \\\n",
       "count  75511.000000  75511.000000   75511.000000   75511.000000  75511.00000   \n",
       "mean      20.025767     56.690943      70.176226     510.003523    538.73139   \n",
       "std        1.404978      2.416317      22.969229       9.233296     21.36482   \n",
       "min       14.820000     46.270000      37.000000     420.000000    339.00000   \n",
       "25%       19.940000     55.360000      53.000000     502.000000    530.00000   \n",
       "50%       20.230000     57.030000      69.000000     509.000000    537.00000   \n",
       "75%       20.640000     58.310000      74.000000     518.000000    545.00000   \n",
       "max       23.470000     69.260000     198.000000     526.000000    598.00000   \n",
       "\n",
       "               MOX2          MOX3          MOX4       COValue  \n",
       "count  75511.000000  75511.000000  75511.000000  75511.000000  \n",
       "mean     724.035849    675.748619    625.210473    114.237290  \n",
       "std       19.940654     22.754632     27.964882     21.903941  \n",
       "min      634.000000    575.000000    473.000000     82.000000  \n",
       "25%      710.000000    663.000000    611.000000    101.000000  \n",
       "50%      722.000000    676.000000    626.000000    109.000000  \n",
       "75%      742.000000    690.000000    643.000000    120.000000  \n",
       "max      791.000000    734.000000    690.000000    918.000000  "
      ]
     },
     "execution_count": 22,
     "metadata": {},
     "output_type": "execute_result"
    }
   ],
   "source": [
    "df.describe()"
   ]
  },
  {
   "cell_type": "code",
   "execution_count": 25,
   "metadata": {},
   "outputs": [],
   "source": [
    "df['temperature'] = (df['temperature'] > 18).astype(int)"
   ]
  },
  {
   "cell_type": "code",
   "execution_count": 26,
   "metadata": {},
   "outputs": [
    {
     "data": {
      "text/html": [
       "<div>\n",
       "<style scoped>\n",
       "    .dataframe tbody tr th:only-of-type {\n",
       "        vertical-align: middle;\n",
       "    }\n",
       "\n",
       "    .dataframe tbody tr th {\n",
       "        vertical-align: top;\n",
       "    }\n",
       "\n",
       "    .dataframe thead th {\n",
       "        text-align: right;\n",
       "    }\n",
       "</style>\n",
       "<table border=\"1\" class=\"dataframe\">\n",
       "  <thead>\n",
       "    <tr style=\"text-align: right;\">\n",
       "      <th></th>\n",
       "      <th>timestamp</th>\n",
       "      <th>temperature</th>\n",
       "      <th>humidity</th>\n",
       "      <th>CO2CosIRValue</th>\n",
       "      <th>CO2MG811Value</th>\n",
       "      <th>MOX1</th>\n",
       "      <th>MOX2</th>\n",
       "      <th>MOX3</th>\n",
       "      <th>MOX4</th>\n",
       "      <th>COValue</th>\n",
       "    </tr>\n",
       "  </thead>\n",
       "  <tbody>\n",
       "    <tr>\n",
       "      <th>0</th>\n",
       "      <td>2020-01-25 00:01:49.251503+01:00</td>\n",
       "      <td>1</td>\n",
       "      <td>55.57</td>\n",
       "      <td>121.0</td>\n",
       "      <td>496.0</td>\n",
       "      <td>521.0</td>\n",
       "      <td>694.0</td>\n",
       "      <td>652.0</td>\n",
       "      <td>591.0</td>\n",
       "      <td>135.0</td>\n",
       "    </tr>\n",
       "    <tr>\n",
       "      <th>1</th>\n",
       "      <td>2020-01-25 00:02:09.350082+01:00</td>\n",
       "      <td>1</td>\n",
       "      <td>55.53</td>\n",
       "      <td>122.0</td>\n",
       "      <td>495.0</td>\n",
       "      <td>521.0</td>\n",
       "      <td>694.0</td>\n",
       "      <td>652.0</td>\n",
       "      <td>591.0</td>\n",
       "      <td>135.0</td>\n",
       "    </tr>\n",
       "    <tr>\n",
       "      <th>2</th>\n",
       "      <td>2020-01-25 00:02:29.319505+01:00</td>\n",
       "      <td>1</td>\n",
       "      <td>55.53</td>\n",
       "      <td>121.0</td>\n",
       "      <td>495.0</td>\n",
       "      <td>522.0</td>\n",
       "      <td>694.0</td>\n",
       "      <td>651.0</td>\n",
       "      <td>591.0</td>\n",
       "      <td>135.0</td>\n",
       "    </tr>\n",
       "    <tr>\n",
       "      <th>3</th>\n",
       "      <td>2020-01-25 00:02:49.399379+01:00</td>\n",
       "      <td>1</td>\n",
       "      <td>55.57</td>\n",
       "      <td>121.0</td>\n",
       "      <td>495.0</td>\n",
       "      <td>522.0</td>\n",
       "      <td>694.0</td>\n",
       "      <td>651.0</td>\n",
       "      <td>591.0</td>\n",
       "      <td>135.0</td>\n",
       "    </tr>\n",
       "    <tr>\n",
       "      <th>4</th>\n",
       "      <td>2020-01-25 00:03:09.158989+01:00</td>\n",
       "      <td>1</td>\n",
       "      <td>55.59</td>\n",
       "      <td>121.0</td>\n",
       "      <td>495.0</td>\n",
       "      <td>522.0</td>\n",
       "      <td>694.0</td>\n",
       "      <td>652.0</td>\n",
       "      <td>591.0</td>\n",
       "      <td>135.0</td>\n",
       "    </tr>\n",
       "  </tbody>\n",
       "</table>\n",
       "</div>"
      ],
      "text/plain": [
       "                          timestamp  temperature  humidity  CO2CosIRValue  \\\n",
       "0  2020-01-25 00:01:49.251503+01:00            1     55.57          121.0   \n",
       "1  2020-01-25 00:02:09.350082+01:00            1     55.53          122.0   \n",
       "2  2020-01-25 00:02:29.319505+01:00            1     55.53          121.0   \n",
       "3  2020-01-25 00:02:49.399379+01:00            1     55.57          121.0   \n",
       "4  2020-01-25 00:03:09.158989+01:00            1     55.59          121.0   \n",
       "\n",
       "   CO2MG811Value   MOX1   MOX2   MOX3   MOX4  COValue  \n",
       "0          496.0  521.0  694.0  652.0  591.0    135.0  \n",
       "1          495.0  521.0  694.0  652.0  591.0    135.0  \n",
       "2          495.0  522.0  694.0  651.0  591.0    135.0  \n",
       "3          495.0  522.0  694.0  651.0  591.0    135.0  \n",
       "4          495.0  522.0  694.0  652.0  591.0    135.0  "
      ]
     },
     "execution_count": 26,
     "metadata": {},
     "output_type": "execute_result"
    }
   ],
   "source": [
    "df.head()"
   ]
  },
  {
   "cell_type": "code",
   "execution_count": 28,
   "metadata": {},
   "outputs": [
    {
     "data": {
      "text/plain": [
       "array([1, 0])"
      ]
     },
     "execution_count": 28,
     "metadata": {},
     "output_type": "execute_result"
    }
   ],
   "source": [
    "df['temperature'].unique()"
   ]
  },
  {
   "cell_type": "code",
   "execution_count": 30,
   "metadata": {},
   "outputs": [
    {
     "data": {
      "text/plain": [
       "array([[ 1.        , -0.29482109],\n",
       "       [-0.29482109,  1.        ]])"
      ]
     },
     "execution_count": 30,
     "metadata": {},
     "output_type": "execute_result"
    }
   ],
   "source": [
    "matrix = np.corrcoef(df['humidity'], df['MOX1'])\n",
    "matrix"
   ]
  },
  {
   "cell_type": "code",
   "execution_count": 32,
   "metadata": {},
   "outputs": [
    {
     "data": {
      "text/html": [
       "<div>\n",
       "<style scoped>\n",
       "    .dataframe tbody tr th:only-of-type {\n",
       "        vertical-align: middle;\n",
       "    }\n",
       "\n",
       "    .dataframe tbody tr th {\n",
       "        vertical-align: top;\n",
       "    }\n",
       "\n",
       "    .dataframe thead th {\n",
       "        text-align: right;\n",
       "    }\n",
       "</style>\n",
       "<table border=\"1\" class=\"dataframe\">\n",
       "  <thead>\n",
       "    <tr style=\"text-align: right;\">\n",
       "      <th></th>\n",
       "      <th>humidity</th>\n",
       "      <th>MOX1</th>\n",
       "    </tr>\n",
       "  </thead>\n",
       "  <tbody>\n",
       "    <tr>\n",
       "      <th>humidity</th>\n",
       "      <td>1.000000</td>\n",
       "      <td>-0.294821</td>\n",
       "    </tr>\n",
       "    <tr>\n",
       "      <th>MOX1</th>\n",
       "      <td>-0.294821</td>\n",
       "      <td>1.000000</td>\n",
       "    </tr>\n",
       "  </tbody>\n",
       "</table>\n",
       "</div>"
      ],
      "text/plain": [
       "          humidity      MOX1\n",
       "humidity  1.000000 -0.294821\n",
       "MOX1     -0.294821  1.000000"
      ]
     },
     "execution_count": 32,
     "metadata": {},
     "output_type": "execute_result"
    }
   ],
   "source": [
    "df[['humidity', 'MOX1']].corr()"
   ]
  },
  {
   "cell_type": "code",
   "execution_count": 33,
   "metadata": {},
   "outputs": [
    {
     "ename": "ValueError",
     "evalue": "could not convert string to float: '2020-01-25 00:01:49.251503+01:00'",
     "output_type": "error",
     "traceback": [
      "\u001b[1;31m---------------------------------------------------------------------------\u001b[0m",
      "\u001b[1;31mValueError\u001b[0m                                Traceback (most recent call last)",
      "Cell \u001b[1;32mIn[33], line 1\u001b[0m\n\u001b[1;32m----> 1\u001b[0m df\u001b[39m.\u001b[39;49mcov()\n",
      "File \u001b[1;32mc:\\Users\\Admin\\AppData\\Local\\Programs\\Python\\Python311\\Lib\\site-packages\\pandas\\core\\frame.py:10862\u001b[0m, in \u001b[0;36mDataFrame.cov\u001b[1;34m(self, min_periods, ddof, numeric_only)\u001b[0m\n\u001b[0;32m  10860\u001b[0m cols \u001b[39m=\u001b[39m data\u001b[39m.\u001b[39mcolumns\n\u001b[0;32m  10861\u001b[0m idx \u001b[39m=\u001b[39m cols\u001b[39m.\u001b[39mcopy()\n\u001b[1;32m> 10862\u001b[0m mat \u001b[39m=\u001b[39m data\u001b[39m.\u001b[39;49mto_numpy(dtype\u001b[39m=\u001b[39;49m\u001b[39mfloat\u001b[39;49m, na_value\u001b[39m=\u001b[39;49mnp\u001b[39m.\u001b[39;49mnan, copy\u001b[39m=\u001b[39;49m\u001b[39mFalse\u001b[39;49;00m)\n\u001b[0;32m  10864\u001b[0m \u001b[39mif\u001b[39;00m notna(mat)\u001b[39m.\u001b[39mall():\n\u001b[0;32m  10865\u001b[0m     \u001b[39mif\u001b[39;00m min_periods \u001b[39mis\u001b[39;00m \u001b[39mnot\u001b[39;00m \u001b[39mNone\u001b[39;00m \u001b[39mand\u001b[39;00m min_periods \u001b[39m>\u001b[39m \u001b[39mlen\u001b[39m(mat):\n",
      "File \u001b[1;32mc:\\Users\\Admin\\AppData\\Local\\Programs\\Python\\Python311\\Lib\\site-packages\\pandas\\core\\frame.py:1892\u001b[0m, in \u001b[0;36mDataFrame.to_numpy\u001b[1;34m(self, dtype, copy, na_value)\u001b[0m\n\u001b[0;32m   1890\u001b[0m \u001b[39mif\u001b[39;00m dtype \u001b[39mis\u001b[39;00m \u001b[39mnot\u001b[39;00m \u001b[39mNone\u001b[39;00m:\n\u001b[0;32m   1891\u001b[0m     dtype \u001b[39m=\u001b[39m np\u001b[39m.\u001b[39mdtype(dtype)\n\u001b[1;32m-> 1892\u001b[0m result \u001b[39m=\u001b[39m \u001b[39mself\u001b[39;49m\u001b[39m.\u001b[39;49m_mgr\u001b[39m.\u001b[39;49mas_array(dtype\u001b[39m=\u001b[39;49mdtype, copy\u001b[39m=\u001b[39;49mcopy, na_value\u001b[39m=\u001b[39;49mna_value)\n\u001b[0;32m   1893\u001b[0m \u001b[39mif\u001b[39;00m result\u001b[39m.\u001b[39mdtype \u001b[39mis\u001b[39;00m \u001b[39mnot\u001b[39;00m dtype:\n\u001b[0;32m   1894\u001b[0m     result \u001b[39m=\u001b[39m np\u001b[39m.\u001b[39marray(result, dtype\u001b[39m=\u001b[39mdtype, copy\u001b[39m=\u001b[39m\u001b[39mFalse\u001b[39;00m)\n",
      "File \u001b[1;32mc:\\Users\\Admin\\AppData\\Local\\Programs\\Python\\Python311\\Lib\\site-packages\\pandas\\core\\internals\\managers.py:1656\u001b[0m, in \u001b[0;36mBlockManager.as_array\u001b[1;34m(self, dtype, copy, na_value)\u001b[0m\n\u001b[0;32m   1654\u001b[0m         arr\u001b[39m.\u001b[39mflags\u001b[39m.\u001b[39mwriteable \u001b[39m=\u001b[39m \u001b[39mFalse\u001b[39;00m\n\u001b[0;32m   1655\u001b[0m \u001b[39melse\u001b[39;00m:\n\u001b[1;32m-> 1656\u001b[0m     arr \u001b[39m=\u001b[39m \u001b[39mself\u001b[39;49m\u001b[39m.\u001b[39;49m_interleave(dtype\u001b[39m=\u001b[39;49mdtype, na_value\u001b[39m=\u001b[39;49mna_value)\n\u001b[0;32m   1657\u001b[0m     \u001b[39m# The underlying data was copied within _interleave, so no need\u001b[39;00m\n\u001b[0;32m   1658\u001b[0m     \u001b[39m# to further copy if copy=True or setting na_value\u001b[39;00m\n\u001b[0;32m   1660\u001b[0m \u001b[39mif\u001b[39;00m na_value \u001b[39mis\u001b[39;00m lib\u001b[39m.\u001b[39mno_default:\n",
      "File \u001b[1;32mc:\\Users\\Admin\\AppData\\Local\\Programs\\Python\\Python311\\Lib\\site-packages\\pandas\\core\\internals\\managers.py:1715\u001b[0m, in \u001b[0;36mBlockManager._interleave\u001b[1;34m(self, dtype, na_value)\u001b[0m\n\u001b[0;32m   1713\u001b[0m     \u001b[39melse\u001b[39;00m:\n\u001b[0;32m   1714\u001b[0m         arr \u001b[39m=\u001b[39m blk\u001b[39m.\u001b[39mget_values(dtype)\n\u001b[1;32m-> 1715\u001b[0m     result[rl\u001b[39m.\u001b[39;49mindexer] \u001b[39m=\u001b[39m arr\n\u001b[0;32m   1716\u001b[0m     itemmask[rl\u001b[39m.\u001b[39mindexer] \u001b[39m=\u001b[39m \u001b[39m1\u001b[39m\n\u001b[0;32m   1718\u001b[0m \u001b[39mif\u001b[39;00m \u001b[39mnot\u001b[39;00m itemmask\u001b[39m.\u001b[39mall():\n",
      "\u001b[1;31mValueError\u001b[0m: could not convert string to float: '2020-01-25 00:01:49.251503+01:00'"
     ]
    }
   ],
   "source": [
    "df.cov()"
   ]
  },
  {
   "cell_type": "code",
   "execution_count": 34,
   "metadata": {},
   "outputs": [
    {
     "data": {
      "text/plain": [
       "'\\npolyfit\\npairplot\\n'"
      ]
     },
     "execution_count": 34,
     "metadata": {},
     "output_type": "execute_result"
    }
   ],
   "source": [
    "\"\"\"\n",
    "polyfit\n",
    "pairplot\n",
    "\"\"\""
   ]
  },
  {
   "cell_type": "code",
   "execution_count": null,
   "metadata": {},
   "outputs": [],
   "source": []
  }
 ],
 "metadata": {
  "kernelspec": {
   "display_name": "Python 3",
   "language": "python",
   "name": "python3"
  },
  "language_info": {
   "codemirror_mode": {
    "name": "ipython",
    "version": 3
   },
   "file_extension": ".py",
   "mimetype": "text/x-python",
   "name": "python",
   "nbconvert_exporter": "python",
   "pygments_lexer": "ipython3",
   "version": "3.11.4"
  },
  "orig_nbformat": 4
 },
 "nbformat": 4,
 "nbformat_minor": 2
}
